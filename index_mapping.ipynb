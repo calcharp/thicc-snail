{
 "cells": [
  {
   "cell_type": "code",
   "execution_count": 27,
   "metadata": {},
   "outputs": [
    {
     "name": "stdout",
     "output_type": "stream",
     "text": [
      "[[ 0  1  6  5]\n",
      " [ 1  2  7  6]\n",
      " [ 2  3  8  7]\n",
      " [ 3  4  9  8]\n",
      " [ 5  6 11 10]\n",
      " [ 6  7 12 11]\n",
      " [ 7  8 13 12]\n",
      " [ 8  9 14 13]\n",
      " [10 11 16 15]\n",
      " [11 12 17 16]\n",
      " [12 13 18 17]\n",
      " [13 14 19 18]\n",
      " [15 16 21 20]\n",
      " [16 17 22 21]\n",
      " [17 18 23 22]\n",
      " [18 19 24 23]\n",
      " [20 21  1  0]\n",
      " [21 22  2  1]\n",
      " [22 23  3  2]\n",
      " [23 24  4  3]]\n"
     ]
    }
   ],
   "source": [
    "import numpy as np\n",
    "\n",
    "n_points_aperture = 5\n",
    "n_points_time = 5\n",
    "\n",
    "indices = np.array(range(n_points_aperture*n_points_time))\n",
    "index_grid = indices.reshape(n_points_time, n_points_aperture)\n",
    "v1 = index_grid[:, :-1]                       \n",
    "v2 = index_grid[:, 1:]                         \n",
    "v3 = np.roll(index_grid, -1, axis=0)[:, 1:]     \n",
    "v4 = np.roll(index_grid, -1, axis=0)[:, :-1]    \n",
    "# Stack the adjusted indices to form faces with vertical wrapping\n",
    "faces = np.stack((v1, v2, v3, v4), axis=-1).reshape(-1, 4)\n",
    "print(faces)"
   ]
  },
  {
   "cell_type": "code",
   "execution_count": 30,
   "metadata": {},
   "outputs": [
    {
     "name": "stdout",
     "output_type": "stream",
     "text": [
      "[ 0  1  2  3  4  5  6  7  8  9 10 11 12 13 14 15 16 17 18 19 80 81 82 83\n",
      " 84 85 86 87 88 89 90 91 92 93 94 95 96 97 98 99]\n"
     ]
    }
   ],
   "source": [
    "import numpy as np\n",
    "\n",
    "# Example NumPy array\n",
    "array = np.arange(100)  # An array with 100 elements\n",
    "\n",
    "# Concatenate the first 20 and the last 20 elements in one step\n",
    "result = np.concatenate((array[:20], array[-20:]))\n",
    "\n",
    "print(result)\n"
   ]
  }
 ],
 "metadata": {
  "kernelspec": {
   "display_name": "general",
   "language": "python",
   "name": "python3"
  },
  "language_info": {
   "codemirror_mode": {
    "name": "ipython",
    "version": 3
   },
   "file_extension": ".py",
   "mimetype": "text/x-python",
   "name": "python",
   "nbconvert_exporter": "python",
   "pygments_lexer": "ipython3",
   "version": "3.10.8"
  }
 },
 "nbformat": 4,
 "nbformat_minor": 2
}
