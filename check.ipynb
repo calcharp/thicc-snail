{
 "cells": [
  {
   "cell_type": "code",
   "execution_count": 7,
   "metadata": {},
   "outputs": [],
   "source": [
    "import numpy as np\n",
    "import time"
   ]
  },
  {
   "cell_type": "code",
   "execution_count": 44,
   "metadata": {},
   "outputs": [
    {
     "name": "stdout",
     "output_type": "stream",
     "text": [
      "7.37976861000061 - 0.11677122116088867 - 63.19852217553402\n"
     ]
    }
   ],
   "source": [
    "n_points_time = 1000\n",
    "n_points_aperture = 10000\n",
    "\n",
    "\n",
    "start = time.time()\n",
    "faces = []        \n",
    "# Main loop for creating quad faces along the shell, avoiding connections at the last aperture column\n",
    "for t in range(n_points_time - 1):\n",
    "    for a in range(n_points_aperture - 1):  # Stop before the last point in aperture to avoid closure\n",
    "        bottom_left = t * n_points_aperture + a\n",
    "        bottom_right = bottom_left + 1\n",
    "        top_left = bottom_left + n_points_aperture\n",
    "        top_right = top_left + 1\n",
    "        faces.append([bottom_left, bottom_right, top_right, top_left])\n",
    "\n",
    "stop = time.time()\n",
    "time1 = stop - start\n",
    "\n",
    "\n",
    "start = time.time()\n",
    "faces2 = []\n",
    "bottom_left = ((np.arange(n_points_time - 1)*n_points_aperture)[:, np.newaxis] + np.arange(n_points_aperture - 1)).flatten()\n",
    "bottom_right = bottom_left + 1\n",
    "top_left = bottom_left + n_points_aperture\n",
    "top_right = top_left + 1\n",
    "faces2 = np.column_stack((bottom_left, bottom_right, top_right, top_left))\n",
    "\n",
    "stop = time.time()\n",
    "time2 = stop - start\n",
    "\n",
    "ratio = time1/time2\n",
    "\n",
    "print(f\"{time1} - {time2} - {ratio}\")"
   ]
  },
  {
   "cell_type": "code",
   "execution_count": null,
   "metadata": {},
   "outputs": [],
   "source": [
    "\n"
   ]
  }
 ],
 "metadata": {
  "kernelspec": {
   "display_name": "general",
   "language": "python",
   "name": "python3"
  },
  "language_info": {
   "codemirror_mode": {
    "name": "ipython",
    "version": 3
   },
   "file_extension": ".py",
   "mimetype": "text/x-python",
   "name": "python",
   "nbconvert_exporter": "python",
   "pygments_lexer": "ipython3",
   "version": "3.10.8"
  }
 },
 "nbformat": 4,
 "nbformat_minor": 2
}
