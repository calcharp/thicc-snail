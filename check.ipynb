{
 "cells": [
  {
   "cell_type": "code",
   "execution_count": 1,
   "metadata": {},
   "outputs": [],
   "source": [
    "import numpy as np"
   ]
  },
  {
   "cell_type": "code",
   "execution_count": 4,
   "metadata": {},
   "outputs": [
    {
     "name": "stdout",
     "output_type": "stream",
     "text": [
      "[[0, 1, 6, 5], [1, 2, 7, 6], [2, 3, 8, 7], [3, 4, 9, 8], [5, 6, 11, 10], [6, 7, 12, 11], [7, 8, 13, 12], [8, 9, 14, 13], [10, 11, 16, 15], [11, 12, 17, 16], [12, 13, 18, 17], [13, 14, 19, 18], [15, 16, 21, 20], [16, 17, 22, 21], [17, 18, 23, 22], [18, 19, 24, 23], [20, 21, 26, 25], [21, 22, 27, 26], [22, 23, 28, 27], [23, 24, 29, 28], [25, 26, 31, 30], [26, 27, 32, 31], [27, 28, 33, 32], [28, 29, 34, 33], [30, 31, 36, 35], [31, 32, 37, 36], [32, 33, 38, 37], [33, 34, 39, 38], [35, 36, 41, 40], [36, 37, 42, 41], [37, 38, 43, 42], [38, 39, 44, 43], [40, 41, 46, 45], [41, 42, 47, 46], [42, 43, 48, 47], [43, 44, 49, 48]]\n"
     ]
    }
   ],
   "source": [
    "n_points_time = 10\n",
    "n_points_aperture = 5\n",
    "\n",
    "\n",
    "faces = []        \n",
    "# Main loop for creating quad faces along the shell, avoiding connections at the last aperture column\n",
    "for t in range(n_points_time - 1):\n",
    "    for a in range(n_points_aperture - 1):  # Stop before the last point in aperture to avoid closure\n",
    "        bottom_left = t * n_points_aperture + a\n",
    "        bottom_right = bottom_left + 1\n",
    "        top_left = bottom_left + n_points_aperture\n",
    "        top_right = top_left + 1\n",
    "        faces.append([bottom_left, bottom_right, top_right, top_left])\n",
    "\n",
    "print(faces)"
   ]
  },
  {
   "cell_type": "code",
   "execution_count": 41,
   "metadata": {},
   "outputs": [
    {
     "name": "stdout",
     "output_type": "stream",
     "text": [
      "[[ True  True  True  True]\n",
      " [ True  True  True  True]\n",
      " [ True  True  True  True]\n",
      " [ True  True  True  True]\n",
      " [ True  True  True  True]\n",
      " [ True  True  True  True]\n",
      " [ True  True  True  True]\n",
      " [ True  True  True  True]\n",
      " [ True  True  True  True]\n",
      " [ True  True  True  True]\n",
      " [ True  True  True  True]\n",
      " [ True  True  True  True]\n",
      " [ True  True  True  True]\n",
      " [ True  True  True  True]\n",
      " [ True  True  True  True]\n",
      " [ True  True  True  True]\n",
      " [ True  True  True  True]\n",
      " [ True  True  True  True]\n",
      " [ True  True  True  True]\n",
      " [ True  True  True  True]\n",
      " [ True  True  True  True]\n",
      " [ True  True  True  True]\n",
      " [ True  True  True  True]\n",
      " [ True  True  True  True]\n",
      " [ True  True  True  True]\n",
      " [ True  True  True  True]\n",
      " [ True  True  True  True]\n",
      " [ True  True  True  True]\n",
      " [ True  True  True  True]\n",
      " [ True  True  True  True]\n",
      " [ True  True  True  True]\n",
      " [ True  True  True  True]\n",
      " [ True  True  True  True]\n",
      " [ True  True  True  True]\n",
      " [ True  True  True  True]\n",
      " [ True  True  True  True]]\n"
     ]
    }
   ],
   "source": [
    "faces2 = []\n",
    "\n",
    "bottom_left = ((np.arange(n_points_time - 1)*n_points_aperture)[:, np.newaxis] + np.arange(n_points_aperture - 1)).flatten()\n",
    "bottom_right = bottom_left + 1\n",
    "top_left = bottom_left + n_points_aperture\n",
    "top_right = top_left + 1\n",
    "\n",
    "faces2 = np.column_stack((bottom_left, bottom_right, top_right, top_left))\n",
    "\n",
    "print(faces2 == faces)"
   ]
  }
 ],
 "metadata": {
  "kernelspec": {
   "display_name": "general",
   "language": "python",
   "name": "python3"
  },
  "language_info": {
   "codemirror_mode": {
    "name": "ipython",
    "version": 3
   },
   "file_extension": ".py",
   "mimetype": "text/x-python",
   "name": "python",
   "nbconvert_exporter": "python",
   "pygments_lexer": "ipython3",
   "version": "3.10.8"
  }
 },
 "nbformat": 4,
 "nbformat_minor": 2
}
