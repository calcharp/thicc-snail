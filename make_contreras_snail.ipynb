{
 "cells": [
  {
   "cell_type": "code",
   "execution_count": 1,
   "metadata": {},
   "outputs": [],
   "source": [
    "import numpy as np"
   ]
  },
  {
   "cell_type": "code",
   "execution_count": 152,
   "metadata": {},
   "outputs": [],
   "source": [
    "\n",
    "def make_contreras_snail(label=\"snail\", \n",
    "                         b = .1, d = 4, z = 0, a = 1, phi = 0, psi = 0, \n",
    "                         c_depth=0.1, c_n = 70, n_depth = 0, n = 0, \n",
    "                         time = 20, n_points_time = 10000, \n",
    "                         n_points_aperture=1000):\n",
    "\n",
    "    _lambda: np.array = np.zeros((3, n_points_time, n_points_aperture))\n",
    "    gamma: np.array = np.zeros((3, n_points_time, n_points_aperture))\n",
    "    C: np.array = np.zeros((3, n_points_time, n_points_aperture))\n",
    "\n",
    "    # vector of points in time reshaped for broadcasting\n",
    "    t: np.array = np.linspace(0, time, n_points_time).reshape((n_points_time, 1))\n",
    "    theta: np.array = np.linspace(0, 2*np.pi, n_points_aperture).reshape((1, n_points_aperture))\n",
    "\n",
    "    # precalculating some repeated operations for efficiency\n",
    "    sin_t = np.sin(t)\n",
    "    cos_t = np.cos(t)\n",
    "    sin_theta = np.sin(theta)\n",
    "    cos_theta = np.cos(theta)\n",
    "    bsq = b**2\n",
    "    dsq = d**2\n",
    "\n",
    "    # shape = (3, n_points_time, 1) -> [xyz][time][constant with respect to the angle theta along the aperture]\n",
    "    gamma = np.exp(b*t)*np.array([\n",
    "        d*sin_t, d*cos_t, \n",
    "        np.full(n_points_time, z).reshape(n_points_time, 1)\n",
    "    ])\n",
    "\n",
    "    # Defining the normal and binormal vectors along the frennet frame for all time points and angles about the aperture\n",
    "    # 3 x n_points_time x 1\n",
    "    N: np.array = np.array([\n",
    "        b*cos_t - sin_t,\n",
    "        -b*sin_t - cos_t,\n",
    "        np.zeros(n_points_time).reshape(n_points_time, 1)\n",
    "    ])/np.sqrt(b**2 + 1)\n",
    "\n",
    "    B: np.array = np.array([\n",
    "        b*z*(b*sin_t + cos_t),\n",
    "        b*z*(b*cos_t - sin_t),\n",
    "        d*(bsq + 1)\n",
    "    ]).reshape(n_points_time, 1)/np.sqrt(\n",
    "        (bsq + 1)*((bsq + 1)*dsq + bsq*(z**2))\n",
    "    )\n",
    "\n",
    "    # Define the rotation matrix for the aperture given that psi \n",
    "    # is the rotation angle about the B axis in the local frennet frame\n",
    "    R: np.array = np.array([\n",
    "        [np.cos(psi), -np.sin(psi), 0],\n",
    "        [np.sin(psi), np.cos(psi), 0],\n",
    "        [0, 0, 1]\n",
    "    ])\n",
    "    \n",
    "    # Define the unrotated and unscaled generating curve\n",
    "    # Shape = (1, 1, n_points_aperture) | constant for [xyz][time], [changes for the angle]\n",
    "    GC: np.array = (a*sin_theta*np.cos(phi) + cos_theta*np.sin(phi)).reshape(1, 1, n_points_aperture)*N \n",
    "\n",
    "    return N"
   ]
  },
  {
   "cell_type": "code",
   "execution_count": 153,
   "metadata": {},
   "outputs": [
    {
     "name": "stderr",
     "output_type": "stream",
     "text": [
      "C:\\Users\\caleb\\AppData\\Local\\Temp\\ipykernel_11892\\2796418026.py:37: VisibleDeprecationWarning: Creating an ndarray from ragged nested sequences (which is a list-or-tuple of lists-or-tuples-or ndarrays with different lengths or shapes) is deprecated. If you meant to do this, you must specify 'dtype=object' when creating the ndarray.\n",
      "  B: np.array = np.array([\n"
     ]
    },
    {
     "ename": "ValueError",
     "evalue": "cannot reshape array of size 3 into shape (10000,1)",
     "output_type": "error",
     "traceback": [
      "\u001b[1;31m---------------------------------------------------------------------------\u001b[0m",
      "\u001b[1;31mValueError\u001b[0m                                Traceback (most recent call last)",
      "Cell \u001b[1;32mIn[153], line 1\u001b[0m\n\u001b[1;32m----> 1\u001b[0m snail \u001b[38;5;241m=\u001b[39m \u001b[43mmake_contreras_snail\u001b[49m\u001b[43m(\u001b[49m\u001b[43m)\u001b[49m\n\u001b[0;32m      2\u001b[0m \u001b[38;5;28mprint\u001b[39m(snail\u001b[38;5;241m.\u001b[39mshape)\n",
      "Cell \u001b[1;32mIn[152], line 41\u001b[0m, in \u001b[0;36mmake_contreras_snail\u001b[1;34m(label, b, d, z, a, phi, psi, c_depth, c_n, n_depth, n, time, n_points_time, n_points_aperture)\u001b[0m\n\u001b[0;32m     29\u001b[0m \u001b[38;5;66;03m# Defining the normal and binormal vectors along the frennet frame for all time points and angles about the aperture\u001b[39;00m\n\u001b[0;32m     30\u001b[0m \u001b[38;5;66;03m# 3 x n_points_time x 1\u001b[39;00m\n\u001b[0;32m     31\u001b[0m N: np\u001b[38;5;241m.\u001b[39marray \u001b[38;5;241m=\u001b[39m np\u001b[38;5;241m.\u001b[39marray([\n\u001b[0;32m     32\u001b[0m     b\u001b[38;5;241m*\u001b[39mcos_t \u001b[38;5;241m-\u001b[39m sin_t,\n\u001b[0;32m     33\u001b[0m     \u001b[38;5;241m-\u001b[39mb\u001b[38;5;241m*\u001b[39msin_t \u001b[38;5;241m-\u001b[39m cos_t,\n\u001b[0;32m     34\u001b[0m     np\u001b[38;5;241m.\u001b[39mzeros(n_points_time)\u001b[38;5;241m.\u001b[39mreshape(n_points_time, \u001b[38;5;241m1\u001b[39m)\n\u001b[0;32m     35\u001b[0m ])\u001b[38;5;241m/\u001b[39mnp\u001b[38;5;241m.\u001b[39msqrt(b\u001b[38;5;241m*\u001b[39m\u001b[38;5;241m*\u001b[39m\u001b[38;5;241m2\u001b[39m \u001b[38;5;241m+\u001b[39m \u001b[38;5;241m1\u001b[39m)\n\u001b[0;32m     37\u001b[0m B: np\u001b[38;5;241m.\u001b[39marray \u001b[38;5;241m=\u001b[39m \u001b[43mnp\u001b[49m\u001b[38;5;241;43m.\u001b[39;49m\u001b[43marray\u001b[49m\u001b[43m(\u001b[49m\u001b[43m[\u001b[49m\n\u001b[0;32m     38\u001b[0m \u001b[43m    \u001b[49m\u001b[43mb\u001b[49m\u001b[38;5;241;43m*\u001b[39;49m\u001b[43mz\u001b[49m\u001b[38;5;241;43m*\u001b[39;49m\u001b[43m(\u001b[49m\u001b[43mb\u001b[49m\u001b[38;5;241;43m*\u001b[39;49m\u001b[43msin_t\u001b[49m\u001b[43m \u001b[49m\u001b[38;5;241;43m+\u001b[39;49m\u001b[43m \u001b[49m\u001b[43mcos_t\u001b[49m\u001b[43m)\u001b[49m\u001b[43m,\u001b[49m\n\u001b[0;32m     39\u001b[0m \u001b[43m    \u001b[49m\u001b[43mb\u001b[49m\u001b[38;5;241;43m*\u001b[39;49m\u001b[43mz\u001b[49m\u001b[38;5;241;43m*\u001b[39;49m\u001b[43m(\u001b[49m\u001b[43mb\u001b[49m\u001b[38;5;241;43m*\u001b[39;49m\u001b[43mcos_t\u001b[49m\u001b[43m \u001b[49m\u001b[38;5;241;43m-\u001b[39;49m\u001b[43m \u001b[49m\u001b[43msin_t\u001b[49m\u001b[43m)\u001b[49m\u001b[43m,\u001b[49m\n\u001b[0;32m     40\u001b[0m \u001b[43m    \u001b[49m\u001b[43md\u001b[49m\u001b[38;5;241;43m*\u001b[39;49m\u001b[43m(\u001b[49m\u001b[43mbsq\u001b[49m\u001b[43m \u001b[49m\u001b[38;5;241;43m+\u001b[39;49m\u001b[43m \u001b[49m\u001b[38;5;241;43m1\u001b[39;49m\u001b[43m)\u001b[49m\n\u001b[1;32m---> 41\u001b[0m \u001b[43m\u001b[49m\u001b[43m]\u001b[49m\u001b[43m)\u001b[49m\u001b[38;5;241;43m.\u001b[39;49m\u001b[43mreshape\u001b[49m\u001b[43m(\u001b[49m\u001b[43mn_points_time\u001b[49m\u001b[43m,\u001b[49m\u001b[43m \u001b[49m\u001b[38;5;241;43m1\u001b[39;49m\u001b[43m)\u001b[49m\u001b[38;5;241m/\u001b[39mnp\u001b[38;5;241m.\u001b[39msqrt(\n\u001b[0;32m     42\u001b[0m     (bsq \u001b[38;5;241m+\u001b[39m \u001b[38;5;241m1\u001b[39m)\u001b[38;5;241m*\u001b[39m((bsq \u001b[38;5;241m+\u001b[39m \u001b[38;5;241m1\u001b[39m)\u001b[38;5;241m*\u001b[39mdsq \u001b[38;5;241m+\u001b[39m bsq\u001b[38;5;241m*\u001b[39m(z\u001b[38;5;241m*\u001b[39m\u001b[38;5;241m*\u001b[39m\u001b[38;5;241m2\u001b[39m))\n\u001b[0;32m     43\u001b[0m )\n\u001b[0;32m     45\u001b[0m \u001b[38;5;66;03m# Define the rotation matrix for the aperture given that psi \u001b[39;00m\n\u001b[0;32m     46\u001b[0m \u001b[38;5;66;03m# is the rotation angle about the B axis in the local frennet frame\u001b[39;00m\n\u001b[0;32m     47\u001b[0m R: np\u001b[38;5;241m.\u001b[39marray \u001b[38;5;241m=\u001b[39m np\u001b[38;5;241m.\u001b[39marray([\n\u001b[0;32m     48\u001b[0m     [np\u001b[38;5;241m.\u001b[39mcos(psi), \u001b[38;5;241m-\u001b[39mnp\u001b[38;5;241m.\u001b[39msin(psi), \u001b[38;5;241m0\u001b[39m],\n\u001b[0;32m     49\u001b[0m     [np\u001b[38;5;241m.\u001b[39msin(psi), np\u001b[38;5;241m.\u001b[39mcos(psi), \u001b[38;5;241m0\u001b[39m],\n\u001b[0;32m     50\u001b[0m     [\u001b[38;5;241m0\u001b[39m, \u001b[38;5;241m0\u001b[39m, \u001b[38;5;241m1\u001b[39m]\n\u001b[0;32m     51\u001b[0m ])\n",
      "\u001b[1;31mValueError\u001b[0m: cannot reshape array of size 3 into shape (10000,1)"
     ]
    }
   ],
   "source": [
    "snail = make_contreras_snail()\n",
    "print(snail.shape)"
   ]
  }
 ],
 "metadata": {
  "kernelspec": {
   "display_name": "general",
   "language": "python",
   "name": "python3"
  },
  "language_info": {
   "codemirror_mode": {
    "name": "ipython",
    "version": 3
   },
   "file_extension": ".py",
   "mimetype": "text/x-python",
   "name": "python",
   "nbconvert_exporter": "python",
   "pygments_lexer": "ipython3",
   "version": "3.10.8"
  }
 },
 "nbformat": 4,
 "nbformat_minor": 2
}
