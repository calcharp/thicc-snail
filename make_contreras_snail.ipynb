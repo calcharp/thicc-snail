{
 "cells": [
  {
   "cell_type": "code",
   "execution_count": 5,
   "metadata": {},
   "outputs": [],
   "source": [
    "import numpy as np\n",
    "\n",
    "def make_contreras_snail(label=\"snail\", \n",
    "                         b = .1, d = 4, z = 1, a = 5, phi = 0, psi = 0, \n",
    "                         c_depth=0.1, c_n = 10, n_depth = 0, n = 0, \n",
    "                         h_0 = 1, eps = 0.5,\n",
    "                         time = 20, n_points_time = 1000, \n",
    "                         n_points_aperture=15):\n",
    "\n",
    "    # snail axes are [XYZ][Aperture Angle Theta][Time]\n",
    "    gamma: np.array = np.zeros((3, n_points_time, n_points_aperture))\n",
    "\n",
    "    # vector of points in time reshaped for broadcasting\n",
    "    t: np.array = np.linspace(0, time, n_points_time).reshape((n_points_time, 1))\n",
    "    theta: np.array = np.linspace(0, 2*np.pi, n_points_aperture).reshape((1, n_points_aperture))\n",
    "\n",
    "    # precalculating some repeated operations for efficiency\n",
    "    sin_t = np.sin(t)\n",
    "    cos_t = np.cos(t)\n",
    "    sin_theta = np.sin(theta)\n",
    "    cos_theta = np.cos(theta)\n",
    "    bsq = b**2\n",
    "    dsq = d**2\n",
    "\n",
    "    radial_ribbing = (1 + n_depth + n_depth*np.sin(n*theta))\n",
    "    spiral_ribbing = (1 + c_depth + c_depth*np.sin(c_n*t))\n",
    "\n",
    "    # shape = (3, n_points_time, 1) -> [xyz][ti)me][constant with respect to the angle theta along the aperture]\n",
    "    gamma = np.exp(b*t)*np.array([\n",
    "        d*sin_t, d*cos_t, \n",
    "        np.full(n_points_time, z).reshape(n_points_time, 1)\n",
    "    ])\n",
    "\n",
    "    # Defining the normal and binormal vectors along the frennet frame for all time points and angles about the aperture\n",
    "    # 3 x n_points_time x 1 for both\n",
    "    N: np.array = np.array([\n",
    "        b*cos_t - sin_t,\n",
    "        -b*sin_t - cos_t,\n",
    "        np.zeros((n_points_time, 1))\n",
    "    ])/np.sqrt(b**2 + 1)\n",
    "\n",
    "    B: np.array = np.array([\n",
    "        b*z*(b*sin_t + cos_t),\n",
    "        b*z*(b*cos_t - sin_t),\n",
    "        np.full((n_points_time, 1), d*(bsq + 1))\n",
    "    ])/np.sqrt(\n",
    "        (bsq + 1)*((bsq + 1)*dsq + bsq*(z**2))\n",
    "    )\n",
    "\n",
    "    # Define the rotation matrix for the aperture given that psi \n",
    "    # is the rotation angle about the B axis in the local frennet frame\n",
    "    R: np.array = np.array([\n",
    "        [np.cos(psi), -np.sin(psi), 0],\n",
    "        [np.sin(psi), np.cos(psi), 0],\n",
    "        [0, 0, 1]\n",
    "    ])\n",
    "    \n",
    "    # Define the unrotated and unscaled generating curve\n",
    "    # Shape = (1, 1, n_points_aperture) | constant for [xyz][time], [changes for the angle]\n",
    "    GC: np.array = (a*sin_theta*np.sin(phi) - cos_theta*np.cos(phi)).reshape(1, 1, n_points_aperture)*B + (a*sin_theta*np.cos(phi) + cos_theta*np.sin(phi)).reshape(1, 1, n_points_aperture)*N\n",
    "    GC_outer: np.array = radial_ribbing*GC \n",
    "\n",
    "    # einsum lets me broadcast the rotation matrix multiplication over the time points and the aperture angles\n",
    "    rGC_outer = np.einsum('ij,jkl->ikl', R, GC_outer)\n",
    "    rGC = np.einsum('ij,jkl->ikl', R, GC)\n",
    "    timescale = (np.exp(b*t) - (1 / (t + 1)))\n",
    "    #adjusting the wave height from 1 to (1+c_depth) so the percentage is always > 100%\n",
    "    outer_timescale = spiral_ribbing*timescale\n",
    "    # eps is a modified version of the shell width parameter described by Okabe 2017\n",
    "    inner_timescale = timescale - ((timescale**eps)*h_0)\n",
    "\n",
    "    # We tranpose the angle and time axes so the final shape is [XYZ][Aperture][Time], which is easier to index for mesh\n",
    "    outer_mesh = gamma + (outer_timescale * rGC_outer)\n",
    "    inner_mesh = gamma + (inner_timescale * rGC)\n",
    "\n",
    "    # have inner and outer vertices into one array\n",
    "    outer_mesh_vertices = outer_mesh.reshape(3, n_points_aperture*n_points_time).T\n",
    "    inner_mesh_vertices = inner_mesh.reshape(3, n_points_aperture*n_points_time).T\n",
    "\n",
    "    # Reshape the inner and outer meshes so their shapes are compatable with Blender\n",
    "    return {\"label\": label,\n",
    "            \"outer_mesh\": outer_mesh,\n",
    "            \"outer_mesh_vertices\": outer_mesh_vertices,\n",
    "            \"inner_mesh_vertices\": inner_mesh_vertices\n",
    "            }"
   ]
  },
  {
   "cell_type": "code",
   "execution_count": 6,
   "metadata": {},
   "outputs": [],
   "source": [
    "snail = make_contreras_snail(z = 1.3, a = 1, d=1, phi=0, psi=0,\n",
    "                             b=.15,\n",
    "                             n_depth=0, n=0, \n",
    "                             c_n=0, c_depth=0,  \n",
    "                             time=200, n_points_time=950, \n",
    "                             n_points_aperture=20, \n",
    "                             h_0 = 40, eps=.8)"
   ]
  },
  {
   "cell_type": "code",
   "execution_count": 8,
   "metadata": {},
   "outputs": [
    {
     "name": "stdout",
     "output_type": "stream",
     "text": [
      "[[ 0.00000000e+00  1.00000000e+00  1.30000000e+00]\n",
      " [ 0.00000000e+00  1.00000000e+00  1.30000000e+00]\n",
      " [ 0.00000000e+00  1.00000000e+00  1.30000000e+00]\n",
      " ...\n",
      " [-1.60380263e+13  6.02392518e+12  5.61185143e+12]\n",
      " [-1.32541299e+13  4.63738161e+12  3.96781982e+12]\n",
      " [-1.00452607e+13  3.31249120e+12  3.39927230e+12]]\n"
     ]
    }
   ],
   "source": [
    "shell = snail[\"outer_mesh_vertices\"]\n",
    "print(shell)"
   ]
  }
 ],
 "metadata": {
  "kernelspec": {
   "display_name": "general",
   "language": "python",
   "name": "python3"
  },
  "language_info": {
   "codemirror_mode": {
    "name": "ipython",
    "version": 3
   },
   "file_extension": ".py",
   "mimetype": "text/x-python",
   "name": "python",
   "nbconvert_exporter": "python",
   "pygments_lexer": "ipython3",
   "version": "3.10.8"
  }
 },
 "nbformat": 4,
 "nbformat_minor": 2
}
