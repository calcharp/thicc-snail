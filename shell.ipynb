{
 "cells": [
  {
   "cell_type": "code",
   "execution_count": 2,
   "metadata": {},
   "outputs": [],
   "source": [
    "import numpy as np"
   ]
  },
  {
   "cell_type": "code",
   "execution_count": null,
   "metadata": {},
   "outputs": [],
   "source": [
    "\n",
    "\n",
    "# t is time\n",
    "t: np.ndarray\n",
    "\n",
    "# b is the expansion rate\n",
    "b: np.ndarray\n",
    "\n",
    "# d is the horizontal distance to the coiling axis\n",
    "d: np.ndarray\n",
    "\n",
    "# z is the distance to the x - y plane, i.e., the vertical translation or radius\n",
    "z: np.ndarray\n",
    "\n",
    "# alpha is the ratio between the minor and major axes\n",
    "alpha: np.ndarray\n",
    "\n",
    "# sin and cos of t are used repeatedly in the model, so are precalculated here for computational efficiency\n",
    "sin_t: np.sin(t)\n",
    "cos_t: np.cos(t)\n",
    "\n",
    "# _gamma is a logarithmic spiral curve that unwinds around the z axis, \n",
    "# which is referred to as coiling axis. _gamma(t) is a three element array \n",
    "# with x, y, and z components at time t\n",
    "_gamma: np.ndarray = np.exp(b*t)*np.array([d*sin_t, d*cos_t, z])\n",
    "\n",
    "\n",
    "\n",
    "\n",
    "# _T is the tangent field vector of the local frenet frame\n",
    "_T: np.ndarray = np.array([\n",
    "    d*(b*sin_t + cos_t),\n",
    "    d*(b*cos_t - sin_t),\n",
    "    -b*z\n",
    "]) / np.sqrt(\n",
    "    (d^2*(b^2 + 1)) + (b^2)*(z^2)\n",
    ")\n",
    "\n",
    "# _N is the normal field vector of the local frenet frame\n",
    "_N: np.ndarray = np.array([\n",
    "    b*cos_t - sin_t,\n",
    "    -b*sin_t - cos_t,\n",
    "    0\n",
    "]) / np.sqrt(\n",
    "    b^2 + 1\n",
    ")\n",
    "\n",
    "# _B is the binormal field vector of the local frenet frame\n",
    "_B: np.ndarray\n",
    "\n",
    "# _T, _N, and _B are mutually orthogonal\n",
    "\n",
    "\n",
    "\n",
    "\n",
    "\n",
    "\n",
    "\n",
    "\n",
    "\n",
    "_lambda: np.ndarray = _gamma + C(t)"
   ]
  }
 ],
 "metadata": {
  "kernelspec": {
   "display_name": "general",
   "language": "python",
   "name": "python3"
  },
  "language_info": {
   "codemirror_mode": {
    "name": "ipython",
    "version": 3
   },
   "file_extension": ".py",
   "mimetype": "text/x-python",
   "name": "python",
   "nbconvert_exporter": "python",
   "pygments_lexer": "ipython3",
   "version": "3.10.8"
  }
 },
 "nbformat": 4,
 "nbformat_minor": 2
}
